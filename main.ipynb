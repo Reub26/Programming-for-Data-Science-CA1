{
 "cells": [
  {
   "cell_type": "markdown",
   "metadata": {},
   "source": [
    "# Analyzing the Relationship between Air Pollutants and Carbon Dioxide Emissions in Singapore\n",
    "\n",
    "## Details\n",
    "Name: Reuben Goh\n",
    "\n",
    "Adm Num: P2205711\n",
    "\n",
    "Class: EP0302 04\n",
    "\n",
    "## URLs of Datasets Chosen\n",
    "1. [Air Pollutant - Nitrogen Dioxide](https://beta.data.gov.sg/collections/1366/datasets/d_88dcbdd26f7adbb5a469491378abfedc/view)\n",
    "\n",
    "2. [Air Pollutant - Ozone](https://beta.data.gov.sg/collections/1367/datasets/d_12e90ff1178704ebd56dc2fff04eef56/view)\n",
    "\n",
    "3. [Air Pollutant - Particulate Matter PM2.5](https://beta.data.gov.sg/collections/1369/datasets/d_397fe8de643aea9927bdee32e49307ff/view)\n",
    "\n",
    "4. [Average Daily Polyclinic Attendances for Selected Diseases](https://beta.data.gov.sg/datasets/d_5d5508f1c954f5630d7b3aa7875d01f9/view)"
   ]
  },
  {
   "cell_type": "code",
   "execution_count": 1,
   "metadata": {},
   "outputs": [],
   "source": [
    "# Imports\n",
    "import numpy as np\n",
    "import matplotlib.pyplot as plt\n",
    "import os"
   ]
  },
  {
   "cell_type": "code",
   "execution_count": 29,
   "metadata": {},
   "outputs": [],
   "source": [
    "# handling data sets to be used later\n",
    "\n",
    "# store the paths of the datasets in a dictionary\n",
    "data_set_list = {\n",
    "  \"no2\": os.path.join(\"datasets\", \"AirPollutantNitrogenDioxide.csv\"),\n",
    "  \"ozone\": os.path.join(\"datasets\", \"AirPollutantOzone.csv\"),\n",
    "  \"pm2.5\": os.path.join(\"datasets\", \"AirPollutantParticulateMatterPM2.5.csv\"),\n",
    "  \"disease\": os.path.join(\"datasets\", \"AverageDailyPolyclinicAttendancesforSelectedDiseases.csv\")\n",
    "}\n",
    "\n",
    "# load the datasets into numpy arrays\n",
    "no2_data = np.genfromtxt(data_set_list[\"no2\"], delimiter=\",\", skip_header=1)\n",
    "ozone_data = np.genfromtxt(data_set_list[\"ozone\"], delimiter=\",\", skip_header=1)\n",
    "pm25_data = np.genfromtxt(data_set_list[\"pm2.5\"], delimiter=\",\", skip_header=1)\n",
    "\n",
    "# load diseases (will be filtered out later to only look at respiratory diseases in this project)\n",
    "disease_data = np.genfromtxt(data_set_list[\"disease\"], delimiter=\",\", skip_header=1, dtype=[(\"epi_week\", \"U7\"), (\"disease\", \"U100\"), (\"no_of_cases\", \"i8\")])\n"
   ]
  },
  {
   "cell_type": "markdown",
   "metadata": {},
   "source": [
    "### Dataset 1: Air Pollutant - Nitrogen Dioxide"
   ]
  },
  {
   "cell_type": "code",
   "execution_count": 30,
   "metadata": {},
   "outputs": [
    {
     "name": "stdout",
     "output_type": "stream",
     "text": [
      "============== Nitrogen Dioxide Data ==============\n",
      "There are a total of 23 data points\n"
     ]
    }
   ],
   "source": [
    "# analyzing csv data\n",
    "\n",
    "print(\"============== Nitrogen Dioxide Data ==============\")\n",
    "print(f\"There are a total of {no2_data.shape[0]} data points\")"
   ]
  },
  {
   "cell_type": "markdown",
   "metadata": {},
   "source": [
    "### Dataset 2: Air Pollutant - Ozone"
   ]
  },
  {
   "cell_type": "code",
   "execution_count": null,
   "metadata": {},
   "outputs": [],
   "source": [
    "print(\"============== Ozone ==============\")"
   ]
  },
  {
   "cell_type": "markdown",
   "metadata": {},
   "source": [
    "### Dataset 3: Air Pollutant - Particulate Matter PM2.5"
   ]
  },
  {
   "cell_type": "code",
   "execution_count": null,
   "metadata": {},
   "outputs": [],
   "source": [
    "print(\"============== Particulate Matter PM2.5 ==============\")"
   ]
  },
  {
   "cell_type": "markdown",
   "metadata": {},
   "source": [
    "### Dataset 4: Average Daily Polyclinic Attendances for Selected Diseases"
   ]
  },
  {
   "cell_type": "code",
   "execution_count": 56,
   "metadata": {},
   "outputs": [
    {
     "name": "stdout",
     "output_type": "stream",
     "text": [
      "============== Yearly Polyclinic Attendances for Acute Upper Respiratory Tract Infections ==============\n",
      "Originally, there were 2557 rows in this dataset.\n",
      "Originally, there were 5 unique diseases in this dataset.\n",
      "The unique diseases are: Acute Conjunctivitis, Acute Diarrhoea, Acute Upper Respiratory Tract infections, Chickenpox, HFMD.\n",
      "\n",
      "In this project, only the data for Acute Upper Respiratory Tract infections will be analyzed.\n",
      "There are 574 rows in this dataset.\n",
      "Each row contains the number of cases of Acute Upper Respiratory Tract infections for a specific week.\n",
      "The dataset contains data from 2012-W0 to 2022-W5.\n"
     ]
    }
   ],
   "source": [
    "print(\"============== Yearly Polyclinic Attendances for Acute Upper Respiratory Tract Infections ==============\")\n",
    "print(f\"Originally, there were {disease_data.shape[0]} rows in this dataset.\")\n",
    "print(f\"Originally, there were {np.unique(disease_data['disease']).shape[0]} unique diseases in this dataset.\")\n",
    "print(\"The unique diseases are:\", end=\" \")\n",
    "print(\", \".join(list(np.unique(disease_data[\"disease\"]))), end=\".\\n\")\n",
    "\n",
    "print() # empty line\n",
    "\n",
    "\n",
    "# filter out respiratory diseases only to be analyzed\n",
    "respiratory_disease_data = disease_data[disease_data[\"disease\"] == \"Acute Upper Respiratory Tract infections\"]\n",
    "\n",
    "print(\"In this project, only the data for Acute Upper Respiratory Tract infections will be analyzed.\")\n",
    "print(f\"There are {respiratory_disease_data.shape[0]} rows in this dataset.\")\n",
    "print(f\"Each row contains the number of cases of Acute Upper Respiratory Tract infections for a specific week.\")\n",
    "print(f\"The dataset contains data from {respiratory_disease_data[0]['epi_week']} to {respiratory_disease_data[-1]['epi_week']}.\")\n",
    "\n",
    "# print(disease_data)\n",
    "# print(respiratory_disease_data)\n",
    "\n",
    "# fix difference in time periods between respiratory data and other air pollutant data\n",
    "# first, extract year\n",
    "years = np.array([int(week.split(\"-\")[0]) for week in respiratory_disease_data[\"epi_week\"]])\n",
    "unique_years = np.unique(years)\n",
    "\n",
    "# aggregate respiratory cases by year\n",
    "respiratory_cases_by_year = np.array([np.sum(respiratory_disease_data[years == year][\"no_of_cases\"]) for year in unique_years])"
   ]
  },
  {
   "cell_type": "markdown",
   "metadata": {},
   "source": [
    "### Trends of Air Pollutants and CO2 Emission (Line Graph)"
   ]
  },
  {
   "cell_type": "code",
   "execution_count": 8,
   "metadata": {},
   "outputs": [
    {
     "name": "stdout",
     "output_type": "stream",
     "text": [
      "[('2012-W0', 'Acute Upper Respiratory Tract infections', 2932)\n",
      " ('2012-W0', 'Acute Conjunctivitis',  120)\n",
      " ('2012-W0', 'Acute Diarrhoea',  491) ...\n",
      " ('2022-W5', 'Acute Diarrhoea',  320) ('2022-W5', 'Chickenpox',    7)\n",
      " ('2022-W5', 'HFMD',   12)]\n"
     ]
    }
   ],
   "source": []
  }
 ],
 "metadata": {
  "kernelspec": {
   "display_name": "Python 3",
   "language": "python",
   "name": "python3"
  },
  "language_info": {
   "codemirror_mode": {
    "name": "ipython",
    "version": 3
   },
   "file_extension": ".py",
   "mimetype": "text/x-python",
   "name": "python",
   "nbconvert_exporter": "python",
   "pygments_lexer": "ipython3",
   "version": "3.10.13"
  }
 },
 "nbformat": 4,
 "nbformat_minor": 2
}
